{
 "cells": [
  {
   "cell_type": "code",
   "execution_count": null,
   "metadata": {},
   "outputs": [],
   "source": [
    "import io\n",
    "import sqlite3\n",
    "import pandas as pd"
   ]
  },
  {
   "cell_type": "code",
   "execution_count": null,
   "metadata": {},
   "outputs": [],
   "source": [
    "conn = sqlite3.connect('despesas.db')\n",
    "cursor = conn.cursor()"
   ]
  },
  {
   "cell_type": "code",
   "execution_count": null,
   "metadata": {},
   "outputs": [],
   "source": [
    "f = io.open('despesas.sql', 'r', encoding='utf-8')\n",
    "sql = f.read()\n",
    "cursor.executescript(sql)"
   ]
  },
  {
   "cell_type": "code",
   "execution_count": null,
   "metadata": {},
   "outputs": [],
   "source": [
    "# 1, 6, 5, 7, 10 e 8"
   ]
  },
  {
   "cell_type": "code",
   "execution_count": null,
   "metadata": {},
   "outputs": [],
   "source": [
    "# 1\n",
    "\n",
    "df = pd.read_sql_query(\"SELECT SB.COD_SUBFUNCAO, SB.NOME_SUBFUNCAO FROM SUBFUNCAO AS SB NATURAL JOIN DETALHAMENTO_FUNCAO AS DF WHERE DF.COD_FUNCAO IN (SELECT F.COD_FUNCAO FROM FUNCAO AS F NATURAL JOIN DETALHAMENTO_FUNCAO AS DF GROUP BY F.COD_FUNCAO ORDER BY COUNT(*) DESC LIMIT 1)\", conn)\n",
    "\n",
    "df"
   ]
  },
  {
   "cell_type": "code",
   "execution_count": null,
   "metadata": {},
   "outputs": [],
   "source": [
    "# 5\n",
    "\n",
    "df = pd.read_sql_query(\"SELECT PG.NOME_PROGRAMA_GOVERNO, PG.COD_PROGRAMA_GOVERNO FROM PROGRAMA_GOVERNO AS PG NATURAL JOIN DESPESA_PUBLICA AS DP NATURAL JOIN DETALHAMENTO_FUNCAO AS DF NATURAL JOIN FUNCAO AS F WHERE F.NOME_FUNCAO = 'Educação' AND DP.ANO_DESPESA = 2018 GROUP BY COD_PROGRAMA_GOVERNO ORDER BY SUM(DP.VALOR_DESPESA) DESC LIMIT 3\",conn)\n",
    "\n",
    "df"
   ]
  },
  {
   "cell_type": "code",
   "execution_count": null,
   "metadata": {},
   "outputs": [],
   "source": [
    "# 6\n",
    "\n",
    "df = pd.read_sql_query(\"SELECT F.NOME_FUNCAO, SF.NOME_SUBFUNCAO, SUM(DP.VALOR_DESPESA) FROM SUBFUNCAO AS SF NATURAL JOIN DETALHAMENTO_FUNCAO AS DF NATURAL JOIN FUNCAO AS F NATURAL JOIN DESPESA_PUBLICA AS DP NATURAL JOIN PROGRAMA_GOVERNO AS PG WHERE DP.ANO_DESPESA = '2018' AND (DP.MES_DESPESA = 7 OR DP.MES_DESPESA = 8 OR DP.MES_DESPESA = 9) AND PG.NOME_PROGRAMA_GOVERNO = 'MAIS MEDICOS' GROUP BY F.NOME_FUNCAO, SF.NOME_SUBFUNCAO\", conn)\n",
    "\n",
    "df"
   ]
  },
  {
   "cell_type": "code",
   "execution_count": null,
   "metadata": {},
   "outputs": [],
   "source": [
    "# 7\n",
    "\n",
    "df = pd.read_sql_query(\"SELECT O.COD_ORGAO, O.NOME_ORGAO, COUNT(PG.NOME_PROGRAMA_GOVERNO) FROM ORGAO AS O NATURAL JOIN DESPESA_PUBLICA AS DP NATURAL JOIN PROGRAMA_GOVERNO AS PG WHERE DP.VALOR_DESPESA > 0 GROUP BY O.NOME_ORGAO\", conn)\n",
    "\n",
    "df"
   ]
  },
  {
   "cell_type": "code",
   "execution_count": null,
   "metadata": {},
   "outputs": [],
   "source": [
    "# 8\n",
    "\n",
    "df = pd.read_sql_query(\"SELECT PG.NOME_PROGRAMA_GOVERNO, SF.NOME_SUBFUNCAO, DP.VALOR_DESPESA, SUM(DP.VALOR_DESPESA) FROM PROGRAMA_GOVERNO AS PG NATURAL JOIN DESPESA_PUBLICA AS DP NATURAL JOIN DETALHAMENTO_FUNCAO AS DF NATURAL JOIN SUBFUNCAO AS SF GROUP BY PG.NOME_PROGRAMA_GOVERNO, DP.VALOR_DESPESA, SF.NOME_SUBFUNCAO\", conn)\n",
    "\n",
    "df"
   ]
  },
  {
   "cell_type": "code",
   "execution_count": null,
   "metadata": {},
   "outputs": [],
   "source": [
    "# 10\n",
    "\n",
    "df = pd.read_sql_query(\"SELECT DP.COD_DESPESA, DP.MES_DESPESA, DP.ANO_DESPESA, DP.MODALIDADE_DESPESA, DP.VALOR_DESPESA FROM DESPESA_PUBLICA AS DP NATURAL JOIN ORGAO AS O WHERE O.COD_ORGAO IN (SELECT COD_ORGAO FROM ORGAO NATURAL JOIN DESPESA_PUBLICA ORDER BY VALOR_DESPESA DESC LIMIT 1)\", conn)\n",
    "\n",
    "df"
   ]
  },
  {
   "cell_type": "code",
   "execution_count": null,
   "metadata": {},
   "outputs": [],
   "source": [
    "# tradução de comandos algebra relacional\n",
    "# 12\n",
    "\n",
    "df = pd.read_sql_query(\"SELECT F.NOME_FUNCAO, SF.NOME_SUBFUNCAO FROM FUNCAO AS F NATURAL JOIN SUBFUNCAO AS SF NATURAL JOIN DETALHAMENTO_FUNCAO\", conn)\n",
    "\n",
    "df"
   ]
  },
  {
   "cell_type": "code",
   "execution_count": null,
   "metadata": {},
   "outputs": [],
   "source": [
    "# 13\n",
    "\n",
    "df = pd.read_sql_query(\"SELECT DP.MODALIDADE_DESPESA, DP.VALOR_DESPESA, PG.NOME_PROGRAMA_GOVERNO FROM PROGRAMA_GOVERNO AS PG NATURAL JOIN DESPESA_PUBLICA AS DP WHERE MODALIDADE_DESPESA = 'Reserva de Contingência' GROUP BY PG.NOME_PROGRAMA_GOVERNO, DP.VALOR_DESPESA\", conn)\n",
    "\n",
    "df"
   ]
  },
  {
   "cell_type": "code",
   "execution_count": null,
   "metadata": {},
   "outputs": [],
   "source": [
    "# 14\n",
    "\n",
    "df = pd.read_sql_query(\"SELECT DP.VALOR_DESPESA, O.NOME_ORGAO FROM DESPESA_PUBLICA AS DP NATURAL JOIN ORGAO AS O WHERE O.NOME_ORGAO = 'Ministério da Fazenda' GROUP BY DP.VALOR_DESPESA, O.NOME_ORGAO\", conn)\n",
    "\n",
    "df"
   ]
  },
  {
   "cell_type": "code",
   "execution_count": null,
   "metadata": {},
   "outputs": [],
   "source": [
    "# 15\n",
    "\n",
    "df = pd.read_sql_query(\"SELECT PG.NOME_PROGRAMA_GOVERNO, DP.VALOR_DESPESA FROM DESPESA_PUBLICA AS DP NATURAL JOIN ORGAO AS O NATURAL JOIN PROGRAMA_GOVERNO AS PG WHERE O.NOME_ORGAO = 'Ministério da Saúde' GROUP BY PG.NOME_PROGRAMA_GOVERNO, DP.VALOR_DESPESA\", conn)\n",
    "\n",
    "df"
   ]
  }
 ],
 "metadata": {
  "kernelspec": {
   "display_name": "Python 3",
   "language": "python",
   "name": "python3"
  },
  "language_info": {
   "codemirror_mode": {
    "name": "ipython",
    "version": 3
   },
   "file_extension": ".py",
   "mimetype": "text/x-python",
   "name": "python",
   "nbconvert_exporter": "python",
   "pygments_lexer": "ipython3",
   "version": "3.7.3"
  }
 },
 "nbformat": 4,
 "nbformat_minor": 2
}
